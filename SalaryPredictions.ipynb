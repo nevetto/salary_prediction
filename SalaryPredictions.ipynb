{
  "cells": [
    {
      "cell_type": "markdown",
      "metadata": {
        "id": "view-in-github",
        "colab_type": "text"
      },
      "source": [
        "<a href=\"https://colab.research.google.com/github/nevetto/salary_prediction/blob/main/SalaryPredictions.ipynb\" target=\"_parent\"><img src=\"https://colab.research.google.com/assets/colab-badge.svg\" alt=\"Open In Colab\"/></a>"
      ]
    },
    {
      "cell_type": "code",
      "execution_count": null,
      "metadata": {
        "id": "oSbTTnLDnoaF"
      },
      "outputs": [],
      "source": [
        "import pandas as pd\n",
        "import matplotlib.pyplot as plt"
      ]
    },
    {
      "cell_type": "markdown",
      "source": [
        "Cleaning\n",
        "Feature Engineering, check for skewness in data by plotting Histogram, chat\n",
        "Feature Transformations\n",
        "Encoding\n",
        "Scaling\n",
        "Target Transformation\n",
        "\n",
        "Model Selection\n",
        "Hyperparameter optimization\n",
        "Ensembling\n",
        "\n",
        "Feature Selection"
      ],
      "metadata": {
        "id": "WzYU5Qhnnr5h"
      }
    },
    {
      "cell_type": "code",
      "execution_count": null,
      "metadata": {
        "id": "RinReylRnoaJ",
        "outputId": "f00b0483-2b36-425d-9a9c-a205ea9e4745"
      },
      "outputs": [
        {
          "data": {
            "text/html": [
              "<div>\n",
              "<style scoped>\n",
              "    .dataframe tbody tr th:only-of-type {\n",
              "        vertical-align: middle;\n",
              "    }\n",
              "\n",
              "    .dataframe tbody tr th {\n",
              "        vertical-align: top;\n",
              "    }\n",
              "\n",
              "    .dataframe thead th {\n",
              "        text-align: right;\n",
              "    }\n",
              "</style>\n",
              "<table border=\"1\" class=\"dataframe\">\n",
              "  <thead>\n",
              "    <tr style=\"text-align: right;\">\n",
              "      <th></th>\n",
              "      <th>Respondent</th>\n",
              "      <th>MainBranch</th>\n",
              "      <th>Hobbyist</th>\n",
              "      <th>Age</th>\n",
              "      <th>Age1stCode</th>\n",
              "      <th>CompFreq</th>\n",
              "      <th>CompTotal</th>\n",
              "      <th>ConvertedComp</th>\n",
              "      <th>Country</th>\n",
              "      <th>CurrencyDesc</th>\n",
              "      <th>...</th>\n",
              "      <th>SurveyEase</th>\n",
              "      <th>SurveyLength</th>\n",
              "      <th>Trans</th>\n",
              "      <th>UndergradMajor</th>\n",
              "      <th>WebframeDesireNextYear</th>\n",
              "      <th>WebframeWorkedWith</th>\n",
              "      <th>WelcomeChange</th>\n",
              "      <th>WorkWeekHrs</th>\n",
              "      <th>YearsCode</th>\n",
              "      <th>YearsCodePro</th>\n",
              "    </tr>\n",
              "  </thead>\n",
              "  <tbody>\n",
              "    <tr>\n",
              "      <th>0</th>\n",
              "      <td>1</td>\n",
              "      <td>I am a developer by profession</td>\n",
              "      <td>Yes</td>\n",
              "      <td>NaN</td>\n",
              "      <td>13</td>\n",
              "      <td>Monthly</td>\n",
              "      <td>NaN</td>\n",
              "      <td>NaN</td>\n",
              "      <td>Germany</td>\n",
              "      <td>European Euro</td>\n",
              "      <td>...</td>\n",
              "      <td>Neither easy nor difficult</td>\n",
              "      <td>Appropriate in length</td>\n",
              "      <td>No</td>\n",
              "      <td>Computer science, computer engineering, or sof...</td>\n",
              "      <td>ASP.NET Core</td>\n",
              "      <td>ASP.NET;ASP.NET Core</td>\n",
              "      <td>Just as welcome now as I felt last year</td>\n",
              "      <td>50.0</td>\n",
              "      <td>36</td>\n",
              "      <td>27</td>\n",
              "    </tr>\n",
              "    <tr>\n",
              "      <th>1</th>\n",
              "      <td>2</td>\n",
              "      <td>I am a developer by profession</td>\n",
              "      <td>No</td>\n",
              "      <td>NaN</td>\n",
              "      <td>19</td>\n",
              "      <td>NaN</td>\n",
              "      <td>NaN</td>\n",
              "      <td>NaN</td>\n",
              "      <td>United Kingdom</td>\n",
              "      <td>Pound sterling</td>\n",
              "      <td>...</td>\n",
              "      <td>NaN</td>\n",
              "      <td>NaN</td>\n",
              "      <td>NaN</td>\n",
              "      <td>Computer science, computer engineering, or sof...</td>\n",
              "      <td>NaN</td>\n",
              "      <td>NaN</td>\n",
              "      <td>Somewhat more welcome now than last year</td>\n",
              "      <td>NaN</td>\n",
              "      <td>7</td>\n",
              "      <td>4</td>\n",
              "    </tr>\n",
              "    <tr>\n",
              "      <th>2</th>\n",
              "      <td>3</td>\n",
              "      <td>I code primarily as a hobby</td>\n",
              "      <td>Yes</td>\n",
              "      <td>NaN</td>\n",
              "      <td>15</td>\n",
              "      <td>NaN</td>\n",
              "      <td>NaN</td>\n",
              "      <td>NaN</td>\n",
              "      <td>Russian Federation</td>\n",
              "      <td>NaN</td>\n",
              "      <td>...</td>\n",
              "      <td>Neither easy nor difficult</td>\n",
              "      <td>Appropriate in length</td>\n",
              "      <td>NaN</td>\n",
              "      <td>NaN</td>\n",
              "      <td>NaN</td>\n",
              "      <td>NaN</td>\n",
              "      <td>Somewhat more welcome now than last year</td>\n",
              "      <td>NaN</td>\n",
              "      <td>4</td>\n",
              "      <td>NaN</td>\n",
              "    </tr>\n",
              "    <tr>\n",
              "      <th>3</th>\n",
              "      <td>4</td>\n",
              "      <td>I am a developer by profession</td>\n",
              "      <td>Yes</td>\n",
              "      <td>25.0</td>\n",
              "      <td>18</td>\n",
              "      <td>NaN</td>\n",
              "      <td>NaN</td>\n",
              "      <td>NaN</td>\n",
              "      <td>Albania</td>\n",
              "      <td>Albanian lek</td>\n",
              "      <td>...</td>\n",
              "      <td>NaN</td>\n",
              "      <td>NaN</td>\n",
              "      <td>No</td>\n",
              "      <td>Computer science, computer engineering, or sof...</td>\n",
              "      <td>NaN</td>\n",
              "      <td>NaN</td>\n",
              "      <td>Somewhat less welcome now than last year</td>\n",
              "      <td>40.0</td>\n",
              "      <td>7</td>\n",
              "      <td>4</td>\n",
              "    </tr>\n",
              "    <tr>\n",
              "      <th>4</th>\n",
              "      <td>5</td>\n",
              "      <td>I used to be a developer by profession, but no...</td>\n",
              "      <td>Yes</td>\n",
              "      <td>31.0</td>\n",
              "      <td>16</td>\n",
              "      <td>NaN</td>\n",
              "      <td>NaN</td>\n",
              "      <td>NaN</td>\n",
              "      <td>United States</td>\n",
              "      <td>NaN</td>\n",
              "      <td>...</td>\n",
              "      <td>Easy</td>\n",
              "      <td>Too short</td>\n",
              "      <td>No</td>\n",
              "      <td>Computer science, computer engineering, or sof...</td>\n",
              "      <td>Django;Ruby on Rails</td>\n",
              "      <td>Ruby on Rails</td>\n",
              "      <td>Just as welcome now as I felt last year</td>\n",
              "      <td>NaN</td>\n",
              "      <td>15</td>\n",
              "      <td>8</td>\n",
              "    </tr>\n",
              "  </tbody>\n",
              "</table>\n",
              "<p>5 rows × 61 columns</p>\n",
              "</div>"
            ],
            "text/plain": [
              "   Respondent                                         MainBranch Hobbyist  \\\n",
              "0           1                     I am a developer by profession      Yes   \n",
              "1           2                     I am a developer by profession       No   \n",
              "2           3                        I code primarily as a hobby      Yes   \n",
              "3           4                     I am a developer by profession      Yes   \n",
              "4           5  I used to be a developer by profession, but no...      Yes   \n",
              "\n",
              "    Age Age1stCode CompFreq  CompTotal  ConvertedComp             Country  \\\n",
              "0   NaN         13  Monthly        NaN            NaN             Germany   \n",
              "1   NaN         19      NaN        NaN            NaN      United Kingdom   \n",
              "2   NaN         15      NaN        NaN            NaN  Russian Federation   \n",
              "3  25.0         18      NaN        NaN            NaN             Albania   \n",
              "4  31.0         16      NaN        NaN            NaN       United States   \n",
              "\n",
              "     CurrencyDesc     ...                       SurveyEase  \\\n",
              "0   European Euro     ...       Neither easy nor difficult   \n",
              "1  Pound sterling     ...                              NaN   \n",
              "2             NaN     ...       Neither easy nor difficult   \n",
              "3    Albanian lek     ...                              NaN   \n",
              "4             NaN     ...                             Easy   \n",
              "\n",
              "            SurveyLength Trans  \\\n",
              "0  Appropriate in length    No   \n",
              "1                    NaN   NaN   \n",
              "2  Appropriate in length   NaN   \n",
              "3                    NaN    No   \n",
              "4              Too short    No   \n",
              "\n",
              "                                      UndergradMajor WebframeDesireNextYear  \\\n",
              "0  Computer science, computer engineering, or sof...           ASP.NET Core   \n",
              "1  Computer science, computer engineering, or sof...                    NaN   \n",
              "2                                                NaN                    NaN   \n",
              "3  Computer science, computer engineering, or sof...                    NaN   \n",
              "4  Computer science, computer engineering, or sof...   Django;Ruby on Rails   \n",
              "\n",
              "     WebframeWorkedWith                             WelcomeChange WorkWeekHrs  \\\n",
              "0  ASP.NET;ASP.NET Core   Just as welcome now as I felt last year        50.0   \n",
              "1                   NaN  Somewhat more welcome now than last year         NaN   \n",
              "2                   NaN  Somewhat more welcome now than last year         NaN   \n",
              "3                   NaN  Somewhat less welcome now than last year        40.0   \n",
              "4         Ruby on Rails   Just as welcome now as I felt last year         NaN   \n",
              "\n",
              "  YearsCode YearsCodePro  \n",
              "0        36           27  \n",
              "1         7            4  \n",
              "2         4          NaN  \n",
              "3         7            4  \n",
              "4        15            8  \n",
              "\n",
              "[5 rows x 61 columns]"
            ]
          },
          "execution_count": 2,
          "metadata": {},
          "output_type": "execute_result"
        }
      ],
      "source": [
        "import pandas as pd\n",
        "df = pd.read_csv('C:\\\\Users\\\\OWNER\\AppData\\\\Local\\\\Temp\\\\Rar$DIa0.058\\\\survey_results_public.csv')\n",
        "df.head()"
      ]
    },
    {
      "cell_type": "code",
      "execution_count": null,
      "metadata": {
        "id": "vlUciUndnoaK"
      },
      "outputs": [],
      "source": [
        "# selecting few columns from the dataset and also renaming convertedComp to salary"
      ]
    },
    {
      "cell_type": "code",
      "execution_count": null,
      "metadata": {
        "id": "a-ifHpv1noaL",
        "outputId": "ab19784a-fe58-413a-84d0-91456b4a6023"
      },
      "outputs": [
        {
          "data": {
            "text/html": [
              "<div>\n",
              "<style scoped>\n",
              "    .dataframe tbody tr th:only-of-type {\n",
              "        vertical-align: middle;\n",
              "    }\n",
              "\n",
              "    .dataframe tbody tr th {\n",
              "        vertical-align: top;\n",
              "    }\n",
              "\n",
              "    .dataframe thead th {\n",
              "        text-align: right;\n",
              "    }\n",
              "</style>\n",
              "<table border=\"1\" class=\"dataframe\">\n",
              "  <thead>\n",
              "    <tr style=\"text-align: right;\">\n",
              "      <th></th>\n",
              "      <th>Country</th>\n",
              "      <th>EdLevel</th>\n",
              "      <th>YearsCodePro</th>\n",
              "      <th>Employment</th>\n",
              "      <th>Salary</th>\n",
              "    </tr>\n",
              "  </thead>\n",
              "  <tbody>\n",
              "    <tr>\n",
              "      <th>0</th>\n",
              "      <td>Germany</td>\n",
              "      <td>Master’s degree (M.A., M.S., M.Eng., MBA, etc.)</td>\n",
              "      <td>27</td>\n",
              "      <td>Independent contractor, freelancer, or self-em...</td>\n",
              "      <td>NaN</td>\n",
              "    </tr>\n",
              "    <tr>\n",
              "      <th>1</th>\n",
              "      <td>United Kingdom</td>\n",
              "      <td>Bachelor’s degree (B.A., B.S., B.Eng., etc.)</td>\n",
              "      <td>4</td>\n",
              "      <td>Employed full-time</td>\n",
              "      <td>NaN</td>\n",
              "    </tr>\n",
              "    <tr>\n",
              "      <th>2</th>\n",
              "      <td>Russian Federation</td>\n",
              "      <td>NaN</td>\n",
              "      <td>NaN</td>\n",
              "      <td>NaN</td>\n",
              "      <td>NaN</td>\n",
              "    </tr>\n",
              "    <tr>\n",
              "      <th>3</th>\n",
              "      <td>Albania</td>\n",
              "      <td>Master’s degree (M.A., M.S., M.Eng., MBA, etc.)</td>\n",
              "      <td>4</td>\n",
              "      <td>NaN</td>\n",
              "      <td>NaN</td>\n",
              "    </tr>\n",
              "    <tr>\n",
              "      <th>4</th>\n",
              "      <td>United States</td>\n",
              "      <td>Bachelor’s degree (B.A., B.S., B.Eng., etc.)</td>\n",
              "      <td>8</td>\n",
              "      <td>Employed full-time</td>\n",
              "      <td>NaN</td>\n",
              "    </tr>\n",
              "  </tbody>\n",
              "</table>\n",
              "</div>"
            ],
            "text/plain": [
              "              Country                                          EdLevel  \\\n",
              "0             Germany  Master’s degree (M.A., M.S., M.Eng., MBA, etc.)   \n",
              "1      United Kingdom     Bachelor’s degree (B.A., B.S., B.Eng., etc.)   \n",
              "2  Russian Federation                                              NaN   \n",
              "3             Albania  Master’s degree (M.A., M.S., M.Eng., MBA, etc.)   \n",
              "4       United States     Bachelor’s degree (B.A., B.S., B.Eng., etc.)   \n",
              "\n",
              "  YearsCodePro                                         Employment  Salary  \n",
              "0           27  Independent contractor, freelancer, or self-em...     NaN  \n",
              "1            4                                 Employed full-time     NaN  \n",
              "2          NaN                                                NaN     NaN  \n",
              "3            4                                                NaN     NaN  \n",
              "4            8                                 Employed full-time     NaN  "
            ]
          },
          "execution_count": 4,
          "metadata": {},
          "output_type": "execute_result"
        }
      ],
      "source": [
        "df = df[[\"Country\", \"EdLevel\",\"YearsCodePro\",\"Employment\",\"ConvertedComp\"]]\n",
        "df = df.rename({\"ConvertedComp\": \"Salary\"}, axis=1)\n",
        "df.head()"
      ]
    },
    {
      "cell_type": "code",
      "execution_count": null,
      "metadata": {
        "id": "ruDVRgMynoaL"
      },
      "outputs": [],
      "source": [
        "# extract salary where is not null"
      ]
    },
    {
      "cell_type": "code",
      "execution_count": null,
      "metadata": {
        "id": "gdKMoboQnoaM",
        "outputId": "65b226f4-a05e-4b2f-8c23-a763f76f5ba4"
      },
      "outputs": [
        {
          "data": {
            "text/html": [
              "<div>\n",
              "<style scoped>\n",
              "    .dataframe tbody tr th:only-of-type {\n",
              "        vertical-align: middle;\n",
              "    }\n",
              "\n",
              "    .dataframe tbody tr th {\n",
              "        vertical-align: top;\n",
              "    }\n",
              "\n",
              "    .dataframe thead th {\n",
              "        text-align: right;\n",
              "    }\n",
              "</style>\n",
              "<table border=\"1\" class=\"dataframe\">\n",
              "  <thead>\n",
              "    <tr style=\"text-align: right;\">\n",
              "      <th></th>\n",
              "      <th>Country</th>\n",
              "      <th>EdLevel</th>\n",
              "      <th>YearsCodePro</th>\n",
              "      <th>Employment</th>\n",
              "      <th>Salary</th>\n",
              "    </tr>\n",
              "  </thead>\n",
              "  <tbody>\n",
              "    <tr>\n",
              "      <th>7</th>\n",
              "      <td>United States</td>\n",
              "      <td>Bachelor’s degree (B.A., B.S., B.Eng., etc.)</td>\n",
              "      <td>13</td>\n",
              "      <td>Employed full-time</td>\n",
              "      <td>116000.0</td>\n",
              "    </tr>\n",
              "    <tr>\n",
              "      <th>9</th>\n",
              "      <td>United Kingdom</td>\n",
              "      <td>Master’s degree (M.A., M.S., M.Eng., MBA, etc.)</td>\n",
              "      <td>4</td>\n",
              "      <td>Employed full-time</td>\n",
              "      <td>32315.0</td>\n",
              "    </tr>\n",
              "    <tr>\n",
              "      <th>10</th>\n",
              "      <td>United Kingdom</td>\n",
              "      <td>Bachelor’s degree (B.A., B.S., B.Eng., etc.)</td>\n",
              "      <td>2</td>\n",
              "      <td>Employed full-time</td>\n",
              "      <td>40070.0</td>\n",
              "    </tr>\n",
              "    <tr>\n",
              "      <th>11</th>\n",
              "      <td>Spain</td>\n",
              "      <td>Some college/university study without earning ...</td>\n",
              "      <td>7</td>\n",
              "      <td>Employed full-time</td>\n",
              "      <td>14268.0</td>\n",
              "    </tr>\n",
              "    <tr>\n",
              "      <th>12</th>\n",
              "      <td>Netherlands</td>\n",
              "      <td>Secondary school (e.g. American high school, G...</td>\n",
              "      <td>20</td>\n",
              "      <td>Employed full-time</td>\n",
              "      <td>38916.0</td>\n",
              "    </tr>\n",
              "  </tbody>\n",
              "</table>\n",
              "</div>"
            ],
            "text/plain": [
              "           Country                                            EdLevel  \\\n",
              "7    United States       Bachelor’s degree (B.A., B.S., B.Eng., etc.)   \n",
              "9   United Kingdom    Master’s degree (M.A., M.S., M.Eng., MBA, etc.)   \n",
              "10  United Kingdom       Bachelor’s degree (B.A., B.S., B.Eng., etc.)   \n",
              "11           Spain  Some college/university study without earning ...   \n",
              "12     Netherlands  Secondary school (e.g. American high school, G...   \n",
              "\n",
              "   YearsCodePro          Employment    Salary  \n",
              "7            13  Employed full-time  116000.0  \n",
              "9             4  Employed full-time   32315.0  \n",
              "10            2  Employed full-time   40070.0  \n",
              "11            7  Employed full-time   14268.0  \n",
              "12           20  Employed full-time   38916.0  "
            ]
          },
          "execution_count": 6,
          "metadata": {},
          "output_type": "execute_result"
        }
      ],
      "source": [
        "df = df[df[\"Salary\"].notnull()]\n",
        "df.head()"
      ]
    },
    {
      "cell_type": "code",
      "execution_count": null,
      "metadata": {
        "id": "xc-OzNEenoaM",
        "outputId": "1b1fd854-324e-4d0b-bb9d-6d47ac9d2145"
      },
      "outputs": [
        {
          "name": "stdout",
          "output_type": "stream",
          "text": [
            "<class 'pandas.core.frame.DataFrame'>\n",
            "Int64Index: 34756 entries, 7 to 64154\n",
            "Data columns (total 5 columns):\n",
            "Country         34756 non-null object\n",
            "EdLevel         34188 non-null object\n",
            "YearsCodePro    34621 non-null object\n",
            "Employment      34717 non-null object\n",
            "Salary          34756 non-null float64\n",
            "dtypes: float64(1), object(4)\n",
            "memory usage: 1.6+ MB\n"
          ]
        }
      ],
      "source": [
        "df.info()"
      ]
    },
    {
      "cell_type": "code",
      "execution_count": null,
      "metadata": {
        "id": "nCVHaWA9noaM"
      },
      "outputs": [],
      "source": [
        "# drop nan"
      ]
    },
    {
      "cell_type": "code",
      "execution_count": null,
      "metadata": {
        "id": "aO4ST0pxnoaN",
        "outputId": "8896a4c7-df98-4277-e9be-fe3345aaad80"
      },
      "outputs": [
        {
          "data": {
            "text/plain": [
              "Country         0\n",
              "EdLevel         0\n",
              "YearsCodePro    0\n",
              "Employment      0\n",
              "Salary          0\n",
              "dtype: int64"
            ]
          },
          "execution_count": 9,
          "metadata": {},
          "output_type": "execute_result"
        }
      ],
      "source": [
        "df = df.dropna()\n",
        "df.isnull().sum()"
      ]
    },
    {
      "cell_type": "code",
      "execution_count": null,
      "metadata": {
        "id": "JEsPcB2rnoaN"
      },
      "outputs": [],
      "source": [
        "# select where employment == to full time only"
      ]
    },
    {
      "cell_type": "code",
      "execution_count": null,
      "metadata": {
        "id": "Kh_aTw8hnoaN",
        "outputId": "01edeb14-efdb-42a9-a82f-70dfa93bc7eb"
      },
      "outputs": [
        {
          "name": "stdout",
          "output_type": "stream",
          "text": [
            "<class 'pandas.core.frame.DataFrame'>\n",
            "Int64Index: 30019 entries, 7 to 64154\n",
            "Data columns (total 4 columns):\n",
            "Country         30019 non-null object\n",
            "EdLevel         30019 non-null object\n",
            "YearsCodePro    30019 non-null object\n",
            "Salary          30019 non-null float64\n",
            "dtypes: float64(1), object(3)\n",
            "memory usage: 1.1+ MB\n"
          ]
        }
      ],
      "source": [
        "df = df[df[\"Employment\"]== \"Employed full-time\"]\n",
        "df = df.drop(\"Employment\", axis=1)\n",
        "df.info()"
      ]
    },
    {
      "cell_type": "code",
      "execution_count": null,
      "metadata": {
        "id": "Ksri7BTVnoaO"
      },
      "outputs": [],
      "source": [
        "# total informations from each country"
      ]
    },
    {
      "cell_type": "code",
      "execution_count": null,
      "metadata": {
        "id": "uzA42msGnoaO",
        "outputId": "9d885cdc-617f-467d-a284-d6e1a2d8095b"
      },
      "outputs": [
        {
          "data": {
            "text/plain": [
              "United States                       7569\n",
              "India                               2425\n",
              "United Kingdom                      2287\n",
              "Germany                             1903\n",
              "Canada                              1178\n",
              "Brazil                               991\n",
              "France                               972\n",
              "Spain                                670\n",
              "Australia                            659\n",
              "Netherlands                          654\n",
              "Poland                               566\n",
              "Italy                                560\n",
              "Russian Federation                   522\n",
              "Sweden                               514\n",
              "Turkey                               327\n",
              "Israel                               300\n",
              "Pakistan                             271\n",
              "Switzerland                          266\n",
              "Mexico                               256\n",
              "Ireland                              253\n",
              "Norway                               252\n",
              "Ukraine                              249\n",
              "Romania                              246\n",
              "South Africa                         244\n",
              "Czech Republic                       229\n",
              "Austria                              220\n",
              "Belgium                              219\n",
              "Iran                                 218\n",
              "Portugal                             215\n",
              "Denmark                              208\n",
              "                                    ... \n",
              "Oman                                   4\n",
              "Guyana                                 3\n",
              "Zambia                                 3\n",
              "Botswana                               3\n",
              "Lao People's Democratic Republic       3\n",
              "Maldives                               3\n",
              "Togo                                   3\n",
              "Rwanda                                 3\n",
              "Haiti                                  3\n",
              "Democratic Republic of the Congo       2\n",
              "Mauritania                             2\n",
              "Côte d'Ivoire                          2\n",
              "Somalia                                2\n",
              "Angola                                 2\n",
              "Andorra                                1\n",
              "Senegal                                1\n",
              "Turkmenistan                           1\n",
              "Yemen                                  1\n",
              "Guinea                                 1\n",
              "Namibia                                1\n",
              "Monaco                                 1\n",
              "Belize                                 1\n",
              "Saint Vincent and the Grenadines       1\n",
              "Swaziland                              1\n",
              "Barbados                               1\n",
              "Niger                                  1\n",
              "Fiji                                   1\n",
              "Benin                                  1\n",
              "Bahamas                                1\n",
              "San Marino                             1\n",
              "Name: Country, Length: 154, dtype: int64"
            ]
          },
          "execution_count": 13,
          "metadata": {},
          "output_type": "execute_result"
        }
      ],
      "source": [
        "df[\"Country\"].value_counts()"
      ]
    },
    {
      "cell_type": "code",
      "execution_count": null,
      "metadata": {
        "id": "fmQKOO8enoaO"
      },
      "outputs": [],
      "source": [
        "# using function to select countries where their inputs is greater or equal 400"
      ]
    },
    {
      "cell_type": "code",
      "execution_count": null,
      "metadata": {
        "id": "GILd73n2noaP"
      },
      "outputs": [],
      "source": [
        "def shorten_categories(categories, cutoff):\n",
        "    categorical_map = {}\n",
        "    for i in range(len(categories)):\n",
        "        if categories.values[i] >= cutoff:\n",
        "            categorical_map[categories.index[i]] = categories.index[i]\n",
        "        else:\n",
        "            categorical_map[categories.index[i]] = \"others\"\n",
        "    return categorical_map"
      ]
    },
    {
      "cell_type": "code",
      "execution_count": null,
      "metadata": {
        "id": "uRAJgsrunoaP",
        "outputId": "bc043b78-d6c2-4f55-b8a3-d8a07636bf69"
      },
      "outputs": [
        {
          "data": {
            "text/plain": [
              "others                8549\n",
              "United States         7569\n",
              "India                 2425\n",
              "United Kingdom        2287\n",
              "Germany               1903\n",
              "Canada                1178\n",
              "Brazil                 991\n",
              "France                 972\n",
              "Spain                  670\n",
              "Australia              659\n",
              "Netherlands            654\n",
              "Poland                 566\n",
              "Italy                  560\n",
              "Russian Federation     522\n",
              "Sweden                 514\n",
              "Name: Country, dtype: int64"
            ]
          },
          "execution_count": 16,
          "metadata": {},
          "output_type": "execute_result"
        }
      ],
      "source": [
        "country_map = shorten_categories(df.Country.value_counts(), 400)\n",
        "df['Country'] = df['Country'].map(country_map)\n",
        "df.Country.value_counts()"
      ]
    },
    {
      "cell_type": "code",
      "execution_count": null,
      "metadata": {
        "id": "3_hrecDFnoaP"
      },
      "outputs": [],
      "source": [
        "# plotting a boxplot of salary against country"
      ]
    },
    {
      "cell_type": "code",
      "execution_count": null,
      "metadata": {
        "id": "OGaayKvrnoaQ",
        "outputId": "5b47f4d2-2c09-4a1e-9928-84db7dfe24bb"
      },
      "outputs": [
        {
          "data": {
            "image/png": "[encoded data removed]",
            "text/plain": [
              "<matplotlib.figure.Figure at 0x1a9e98b97f0>"
            ]
          },
          "metadata": {},
          "output_type": "display_data"
        }
      ],
      "source": [
        "fig, ax = plt.subplots(1,1, figsize=(12, 7))\n",
        "df.boxplot('Salary', 'Country', ax=ax)\n",
        "plt.suptitle('Salary (US$) v Country')\n",
        "plt.title('')\n",
        "plt.ylabel('Salary')\n",
        "plt.xticks(rotation=90)\n",
        "plt.show()"
      ]
    },
    {
      "cell_type": "code",
      "execution_count": null,
      "metadata": {
        "id": "CfBbLXVsnoaQ"
      },
      "outputs": [],
      "source": [
        "# we replot to minimize the outleirs"
      ]
    },
    {
      "cell_type": "code",
      "execution_count": null,
      "metadata": {
        "id": "GYe8ABaUnoaR"
      },
      "outputs": [],
      "source": [
        "df = df[df[\"Salary\"] <= 250000]\n",
        "df = df[df[\"Salary\"]>= 10000]\n",
        "df = df[df['Country'] != 'other']"
      ]
    },
    {
      "cell_type": "code",
      "execution_count": null,
      "metadata": {
        "id": "x4AtjPZNnoaR",
        "outputId": "2de072e7-8101-4976-d85f-7cd1477cabd7"
      },
      "outputs": [
        {
          "data": {
            "image/png": "[encoded data removed]",
            "text/plain": [
              "<matplotlib.figure.Figure at 0x1a9e99b1080>"
            ]
          },
          "metadata": {},
          "output_type": "display_data"
        }
      ],
      "source": [
        "fig, ax = plt.subplots(1,1, figsize=(12, 7))\n",
        "df.boxplot('Salary', 'Country', ax=ax)\n",
        "plt.suptitle('Salary (US$) v Country')\n",
        "plt.title('')\n",
        "plt.ylabel('Salary')\n",
        "plt.xticks(rotation=90)\n",
        "plt.show()"
      ]
    },
    {
      "cell_type": "code",
      "execution_count": null,
      "metadata": {
        "id": "M5206xEinoaR"
      },
      "outputs": [],
      "source": [
        "# lets clean the year pro code"
      ]
    },
    {
      "cell_type": "code",
      "execution_count": null,
      "metadata": {
        "id": "1l25ieEQnoaS",
        "outputId": "ba0aedee-b17d-4458-a05d-d03aedbb068c"
      },
      "outputs": [
        {
          "data": {
            "text/plain": [
              "array(['13', '4', '2', '7', '20', '1', '3', '10', '14', '12', '29', '6',\n",
              "       '28', '8', '23', '15', '25', '5', '9', '11', 'Less than 1 year',\n",
              "       '21', '16', '18', '32', '19', '22', '38', '30', '26', '17', '27',\n",
              "       '24', '34', '35', '33', '36', '40', '39', 'More than 50 years',\n",
              "       '31', '37', '41', '45', '42', '44', '43', '50', '49', '47'],\n",
              "      dtype=object)"
            ]
          },
          "execution_count": 23,
          "metadata": {},
          "output_type": "execute_result"
        }
      ],
      "source": [
        "df[\"YearsCodePro\"].unique()"
      ]
    },
    {
      "cell_type": "code",
      "execution_count": null,
      "metadata": {
        "id": "EGCobrSunoaS"
      },
      "outputs": [],
      "source": [
        "def clean_experience(x):\n",
        "    if x == \"More than 50 years\":\n",
        "        return 50\n",
        "    if x  == \"Less than 1 year\":\n",
        "        return 0.5\n",
        "    return float(x)\n",
        "\n",
        "df[\"YearsCodePro\"] = df[\"YearsCodePro\"].apply(clean_experience)"
      ]
    },
    {
      "cell_type": "code",
      "execution_count": null,
      "metadata": {
        "id": "vm_3hBCDnoaS"
      },
      "outputs": [],
      "source": [
        "# lets clean Education level"
      ]
    },
    {
      "cell_type": "code",
      "execution_count": null,
      "metadata": {
        "id": "JNpaM0rInoaS",
        "outputId": "7067b8ce-7d10-4bc6-b7aa-9daabcb697a4"
      },
      "outputs": [
        {
          "data": {
            "text/plain": [
              "count                                            25374\n",
              "unique                                               9\n",
              "top       Bachelor’s degree (B.A., B.S., B.Eng., etc.)\n",
              "freq                                             12364\n",
              "Name: EdLevel, dtype: object"
            ]
          },
          "execution_count": 26,
          "metadata": {},
          "output_type": "execute_result"
        }
      ],
      "source": [
        "df[\"EdLevel\"].describe()"
      ]
    },
    {
      "cell_type": "code",
      "execution_count": null,
      "metadata": {
        "id": "Rg5TPjtSnoaT",
        "outputId": "bab471a1-ed72-4b7d-b43f-aabdc60db989"
      },
      "outputs": [
        {
          "data": {
            "text/plain": [
              "array(['Bachelor’s degree (B.A., B.S., B.Eng., etc.)',\n",
              "       'Master’s degree (M.A., M.S., M.Eng., MBA, etc.)',\n",
              "       'Some college/university study without earning a degree',\n",
              "       'Secondary school (e.g. American high school, German Realschule or Gymnasium, etc.)',\n",
              "       'Associate degree (A.A., A.S., etc.)',\n",
              "       'Professional degree (JD, MD, etc.)',\n",
              "       'Other doctoral degree (Ph.D., Ed.D., etc.)',\n",
              "       'I never completed any formal education',\n",
              "       'Primary/elementary school'], dtype=object)"
            ]
          },
          "execution_count": 27,
          "metadata": {},
          "output_type": "execute_result"
        }
      ],
      "source": [
        "df[\"EdLevel\"].unique()"
      ]
    },
    {
      "cell_type": "code",
      "execution_count": null,
      "metadata": {
        "id": "RjtlSgxxnoaT"
      },
      "outputs": [],
      "source": [
        "def clean_education(x):\n",
        "    if 'Bachelor’s degree' in  x:\n",
        "        return 'Bachelor’s degree'\n",
        "    if 'Master’s degree' in x:\n",
        "        return 'Master’s degree'\n",
        "    if 'Professional degree' in x or 'Other doctoral' in x:\n",
        "        return 'Post grad'\n",
        "    return 'Less than a Bachelors'\n",
        "\n",
        "df['EdLevel'] = df['EdLevel'].apply(clean_education)\n",
        ""
      ]
    },
    {
      "cell_type": "code",
      "execution_count": null,
      "metadata": {
        "id": "w7mgTLbvnoaa",
        "outputId": "2251c071-5caf-47a5-e1db-2020f918d9a6"
      },
      "outputs": [
        {
          "data": {
            "text/plain": [
              "array(['Bachelor’s degree', 'Master’s degree', 'Less than a Bachelors',\n",
              "       'Post grad'], dtype=object)"
            ]
          },
          "execution_count": 29,
          "metadata": {},
          "output_type": "execute_result"
        }
      ],
      "source": [
        "df[\"EdLevel\"].unique()"
      ]
    },
    {
      "cell_type": "code",
      "execution_count": null,
      "metadata": {
        "id": "PZBBIOL_noab"
      },
      "outputs": [],
      "source": [
        "# transforming to unique value by performing feature engineering"
      ]
    },
    {
      "cell_type": "code",
      "execution_count": null,
      "metadata": {
        "id": "8zus4vAQnoab",
        "outputId": "88b1e0df-6492-4dd6-9fac-12e09e8e3191"
      },
      "outputs": [
        {
          "data": {
            "text/plain": [
              "array([0, 2, 1, 3], dtype=int64)"
            ]
          },
          "execution_count": 31,
          "metadata": {},
          "output_type": "execute_result"
        }
      ],
      "source": [
        "from sklearn.preprocessing import LabelEncoder\n",
        "le_education = LabelEncoder()\n",
        "df['EdLevel'] = le_education.fit_transform(df['EdLevel'])\n",
        "df['EdLevel'].unique()"
      ]
    },
    {
      "cell_type": "code",
      "execution_count": null,
      "metadata": {
        "id": "qulFpS_fnoab",
        "outputId": "8a338b00-8854-4fce-cab4-6c7c1b0ed91b"
      },
      "outputs": [
        {
          "data": {
            "text/plain": [
              "array([13, 12, 10,  7,  4,  2, 14,  6,  1,  3,  5, 11,  8,  0,  9],\n",
              "      dtype=int64)"
            ]
          },
          "execution_count": 32,
          "metadata": {},
          "output_type": "execute_result"
        }
      ],
      "source": [
        "from sklearn.preprocessing import LabelEncoder\n",
        "le_country = LabelEncoder()\n",
        "df['Country'] = le_education.fit_transform(df['Country'])\n",
        "df['Country'].unique()"
      ]
    },
    {
      "cell_type": "code",
      "execution_count": null,
      "metadata": {
        "id": "P85ozLbsnoab"
      },
      "outputs": [],
      "source": [
        "# spliting data for predictions"
      ]
    },
    {
      "cell_type": "code",
      "execution_count": null,
      "metadata": {
        "id": "odvKLuDUnoac"
      },
      "outputs": [],
      "source": [
        "X = df.drop(\"Salary\", axis=1)\n",
        "y = df[\"Salary\"]"
      ]
    },
    {
      "cell_type": "code",
      "execution_count": null,
      "metadata": {
        "id": "qXLmQqyTnoac",
        "outputId": "0f0b40c6-fe8c-4640-db0c-a48f699f5d2f"
      },
      "outputs": [
        {
          "data": {
            "text/plain": [
              "LinearRegression(copy_X=True, fit_intercept=True, n_jobs=1, normalize=False)"
            ]
          },
          "execution_count": 35,
          "metadata": {},
          "output_type": "execute_result"
        }
      ],
      "source": [
        "# lets import a model\n",
        "from sklearn.linear_model import LinearRegression\n",
        "linear_reg = LinearRegression()\n",
        "linear_reg.fit(X, y.values)"
      ]
    },
    {
      "cell_type": "code",
      "execution_count": null,
      "metadata": {
        "id": "gML9gTTDnoac"
      },
      "outputs": [],
      "source": [
        "y_pred = linear_reg.predict(X)"
      ]
    },
    {
      "cell_type": "code",
      "execution_count": null,
      "metadata": {
        "id": "VPaGHDrpnoad"
      },
      "outputs": [],
      "source": [
        "from sklearn.metrics import mean_squared_error, mean_absolute_error\n",
        "import numpy as np\n",
        "error = np.sqrt(mean_squared_error(y, y_pred))"
      ]
    },
    {
      "cell_type": "code",
      "execution_count": null,
      "metadata": {
        "id": "vco93sQNnoad",
        "outputId": "3be34f91-84b9-48bd-a748-e4b897b7b75f"
      },
      "outputs": [
        {
          "data": {
            "text/plain": [
              "42464.12049327694"
            ]
          },
          "execution_count": 38,
          "metadata": {},
          "output_type": "execute_result"
        }
      ],
      "source": [
        "error"
      ]
    },
    {
      "cell_type": "code",
      "execution_count": null,
      "metadata": {
        "id": "XBK4vXIQnoad",
        "outputId": "a6485be1-aa7a-4572-d7d0-376c4ef7bb7e"
      },
      "outputs": [
        {
          "data": {
            "text/plain": [
              "DecisionTreeRegressor(criterion='mse', max_depth=None, max_features=None,\n",
              "           max_leaf_nodes=None, min_impurity_decrease=0.0,\n",
              "           min_impurity_split=None, min_samples_leaf=1,\n",
              "           min_samples_split=2, min_weight_fraction_leaf=0.0,\n",
              "           presort=False, random_state=0, splitter='best')"
            ]
          },
          "execution_count": 39,
          "metadata": {},
          "output_type": "execute_result"
        }
      ],
      "source": [
        "from sklearn.tree import DecisionTreeRegressor\n",
        "dec_tree_reg = DecisionTreeRegressor(random_state=0)\n",
        "dec_tree_reg.fit(X, y.values)"
      ]
    },
    {
      "cell_type": "code",
      "execution_count": null,
      "metadata": {
        "id": "cdr0k8jSnoad"
      },
      "outputs": [],
      "source": [
        "y_pred = dec_tree_reg.predict(X)"
      ]
    },
    {
      "cell_type": "code",
      "execution_count": null,
      "metadata": {
        "id": "4SA5UWJWnoad",
        "outputId": "275a05aa-cd7a-4c0a-bd1c-845daa94a42b"
      },
      "outputs": [
        {
          "name": "stdout",
          "output_type": "stream",
          "text": [
            "$29,867.68\n"
          ]
        }
      ],
      "source": [
        "error = np.sqrt(mean_squared_error(y, y_pred))\n",
        "print(\"${:,.02f}\".format(error))"
      ]
    },
    {
      "cell_type": "code",
      "execution_count": null,
      "metadata": {
        "id": "qKXwJGQ4noae",
        "outputId": "ad51a29e-6ca9-4f53-da38-8dd04098ba5b"
      },
      "outputs": [
        {
          "data": {
            "text/plain": [
              "RandomForestRegressor(bootstrap=True, criterion='mse', max_depth=None,\n",
              "           max_features='auto', max_leaf_nodes=None,\n",
              "           min_impurity_decrease=0.0, min_impurity_split=None,\n",
              "           min_samples_leaf=1, min_samples_split=2,\n",
              "           min_weight_fraction_leaf=0.0, n_estimators=10, n_jobs=1,\n",
              "           oob_score=False, random_state=0, verbose=0, warm_start=False)"
            ]
          },
          "execution_count": 42,
          "metadata": {},
          "output_type": "execute_result"
        }
      ],
      "source": [
        "from sklearn.ensemble import RandomForestRegressor\n",
        "random_forest_reg = RandomForestRegressor(random_state=0)\n",
        "random_forest_reg.fit(X, y.values)"
      ]
    },
    {
      "cell_type": "code",
      "execution_count": null,
      "metadata": {
        "id": "ceB3oBCBnoae"
      },
      "outputs": [],
      "source": [
        "y_pred =random_forest_reg.predict(X)"
      ]
    },
    {
      "cell_type": "code",
      "execution_count": null,
      "metadata": {
        "id": "-4-jMcbUnoae",
        "outputId": "ce2fec69-2b84-472c-c64b-3fb45d7c4d9e"
      },
      "outputs": [
        {
          "name": "stdout",
          "output_type": "stream",
          "text": [
            "$29,996.44\n"
          ]
        }
      ],
      "source": [
        "error = np.sqrt(mean_squared_error(y,y_pred))\n",
        "print(\"${:,.02f}\".format(error))"
      ]
    },
    {
      "cell_type": "code",
      "execution_count": null,
      "metadata": {
        "id": "iuWrhp0Gnoae",
        "outputId": "56611dda-4a21-4bc1-8421-b70e76352177"
      },
      "outputs": [
        {
          "data": {
            "text/plain": [
              "GridSearchCV(cv=None, error_score='raise',\n",
              "       estimator=DecisionTreeRegressor(criterion='mse', max_depth=None, max_features=None,\n",
              "           max_leaf_nodes=None, min_impurity_decrease=0.0,\n",
              "           min_impurity_split=None, min_samples_leaf=1,\n",
              "           min_samples_split=2, min_weight_fraction_leaf=0.0,\n",
              "           presort=False, random_state=0, splitter='best'),\n",
              "       fit_params=None, iid=True, n_jobs=1,\n",
              "       param_grid={'max_depth': [None, 2, 4, 6, 8, 10, 12]},\n",
              "       pre_dispatch='2*n_jobs', refit=True, return_train_score='warn',\n",
              "       scoring='neg_mean_squared_error', verbose=0)"
            ]
          },
          "execution_count": 45,
          "metadata": {},
          "output_type": "execute_result"
        }
      ],
      "source": [
        "from sklearn.model_selection import GridSearchCV\n",
        "\n",
        "max_depth = [None, 2, 4, 6, 8, 10, 12]\n",
        "parameters = {\"max_depth\": max_depth}\n",
        "\n",
        "regressor = DecisionTreeRegressor(random_state=0)\n",
        "gs = GridSearchCV(regressor, parameters, scoring='neg_mean_squared_error')\n",
        "gs.fit(X, y.values)"
      ]
    },
    {
      "cell_type": "code",
      "execution_count": null,
      "metadata": {
        "id": "uy7ooW8fnoae",
        "outputId": "01ad9b7c-f722-4cd1-d7d2-c9c30b07f0e9"
      },
      "outputs": [
        {
          "name": "stdout",
          "output_type": "stream",
          "text": [
            "$30,786.66\n"
          ]
        }
      ],
      "source": [
        "regressor = gs.best_estimator_\n",
        "\n",
        "regressor.fit(X, y.values)\n",
        "y_pred = regressor.predict(X)\n",
        "\n",
        "error= np.sqrt(mean_squared_error(y, y_pred))\n",
        "print(\"${:,.02f}\".format(error))"
      ]
    },
    {
      "cell_type": "code",
      "execution_count": null,
      "metadata": {
        "id": "0BpTmsIfnoaf",
        "outputId": "502aa1c9-f192-42a3-a4ed-af10bc893809"
      },
      "outputs": [
        {
          "data": {
            "text/html": [
              "<div>\n",
              "<style scoped>\n",
              "    .dataframe tbody tr th:only-of-type {\n",
              "        vertical-align: middle;\n",
              "    }\n",
              "\n",
              "    .dataframe tbody tr th {\n",
              "        vertical-align: top;\n",
              "    }\n",
              "\n",
              "    .dataframe thead th {\n",
              "        text-align: right;\n",
              "    }\n",
              "</style>\n",
              "<table border=\"1\" class=\"dataframe\">\n",
              "  <thead>\n",
              "    <tr style=\"text-align: right;\">\n",
              "      <th></th>\n",
              "      <th>Country</th>\n",
              "      <th>EdLevel</th>\n",
              "      <th>YearsCodePro</th>\n",
              "    </tr>\n",
              "  </thead>\n",
              "  <tbody>\n",
              "    <tr>\n",
              "      <th>7</th>\n",
              "      <td>13</td>\n",
              "      <td>0</td>\n",
              "      <td>13.0</td>\n",
              "    </tr>\n",
              "    <tr>\n",
              "      <th>9</th>\n",
              "      <td>12</td>\n",
              "      <td>2</td>\n",
              "      <td>4.0</td>\n",
              "    </tr>\n",
              "    <tr>\n",
              "      <th>10</th>\n",
              "      <td>12</td>\n",
              "      <td>0</td>\n",
              "      <td>2.0</td>\n",
              "    </tr>\n",
              "    <tr>\n",
              "      <th>11</th>\n",
              "      <td>10</td>\n",
              "      <td>1</td>\n",
              "      <td>7.0</td>\n",
              "    </tr>\n",
              "    <tr>\n",
              "      <th>12</th>\n",
              "      <td>7</td>\n",
              "      <td>1</td>\n",
              "      <td>20.0</td>\n",
              "    </tr>\n",
              "    <tr>\n",
              "      <th>13</th>\n",
              "      <td>13</td>\n",
              "      <td>1</td>\n",
              "      <td>1.0</td>\n",
              "    </tr>\n",
              "    <tr>\n",
              "      <th>16</th>\n",
              "      <td>13</td>\n",
              "      <td>0</td>\n",
              "      <td>3.0</td>\n",
              "    </tr>\n",
              "    <tr>\n",
              "      <th>18</th>\n",
              "      <td>13</td>\n",
              "      <td>0</td>\n",
              "      <td>3.0</td>\n",
              "    </tr>\n",
              "    <tr>\n",
              "      <th>23</th>\n",
              "      <td>4</td>\n",
              "      <td>3</td>\n",
              "      <td>20.0</td>\n",
              "    </tr>\n",
              "    <tr>\n",
              "      <th>25</th>\n",
              "      <td>2</td>\n",
              "      <td>0</td>\n",
              "      <td>10.0</td>\n",
              "    </tr>\n",
              "    <tr>\n",
              "      <th>29</th>\n",
              "      <td>12</td>\n",
              "      <td>0</td>\n",
              "      <td>2.0</td>\n",
              "    </tr>\n",
              "    <tr>\n",
              "      <th>31</th>\n",
              "      <td>2</td>\n",
              "      <td>0</td>\n",
              "      <td>10.0</td>\n",
              "    </tr>\n",
              "    <tr>\n",
              "      <th>32</th>\n",
              "      <td>14</td>\n",
              "      <td>0</td>\n",
              "      <td>14.0</td>\n",
              "    </tr>\n",
              "    <tr>\n",
              "      <th>35</th>\n",
              "      <td>12</td>\n",
              "      <td>1</td>\n",
              "      <td>3.0</td>\n",
              "    </tr>\n",
              "    <tr>\n",
              "      <th>37</th>\n",
              "      <td>6</td>\n",
              "      <td>0</td>\n",
              "      <td>12.0</td>\n",
              "    </tr>\n",
              "    <tr>\n",
              "      <th>40</th>\n",
              "      <td>13</td>\n",
              "      <td>2</td>\n",
              "      <td>20.0</td>\n",
              "    </tr>\n",
              "    <tr>\n",
              "      <th>41</th>\n",
              "      <td>13</td>\n",
              "      <td>0</td>\n",
              "      <td>10.0</td>\n",
              "    </tr>\n",
              "    <tr>\n",
              "      <th>42</th>\n",
              "      <td>13</td>\n",
              "      <td>2</td>\n",
              "      <td>29.0</td>\n",
              "    </tr>\n",
              "    <tr>\n",
              "      <th>43</th>\n",
              "      <td>1</td>\n",
              "      <td>2</td>\n",
              "      <td>6.0</td>\n",
              "    </tr>\n",
              "    <tr>\n",
              "      <th>44</th>\n",
              "      <td>3</td>\n",
              "      <td>2</td>\n",
              "      <td>2.0</td>\n",
              "    </tr>\n",
              "    <tr>\n",
              "      <th>45</th>\n",
              "      <td>3</td>\n",
              "      <td>2</td>\n",
              "      <td>4.0</td>\n",
              "    </tr>\n",
              "    <tr>\n",
              "      <th>46</th>\n",
              "      <td>12</td>\n",
              "      <td>3</td>\n",
              "      <td>28.0</td>\n",
              "    </tr>\n",
              "    <tr>\n",
              "      <th>47</th>\n",
              "      <td>13</td>\n",
              "      <td>0</td>\n",
              "      <td>8.0</td>\n",
              "    </tr>\n",
              "    <tr>\n",
              "      <th>48</th>\n",
              "      <td>13</td>\n",
              "      <td>0</td>\n",
              "      <td>4.0</td>\n",
              "    </tr>\n",
              "    <tr>\n",
              "      <th>50</th>\n",
              "      <td>2</td>\n",
              "      <td>1</td>\n",
              "      <td>7.0</td>\n",
              "    </tr>\n",
              "    <tr>\n",
              "      <th>51</th>\n",
              "      <td>12</td>\n",
              "      <td>0</td>\n",
              "      <td>6.0</td>\n",
              "    </tr>\n",
              "    <tr>\n",
              "      <th>53</th>\n",
              "      <td>13</td>\n",
              "      <td>0</td>\n",
              "      <td>23.0</td>\n",
              "    </tr>\n",
              "    <tr>\n",
              "      <th>58</th>\n",
              "      <td>1</td>\n",
              "      <td>0</td>\n",
              "      <td>15.0</td>\n",
              "    </tr>\n",
              "    <tr>\n",
              "      <th>63</th>\n",
              "      <td>12</td>\n",
              "      <td>1</td>\n",
              "      <td>13.0</td>\n",
              "    </tr>\n",
              "    <tr>\n",
              "      <th>66</th>\n",
              "      <td>13</td>\n",
              "      <td>3</td>\n",
              "      <td>15.0</td>\n",
              "    </tr>\n",
              "    <tr>\n",
              "      <th>...</th>\n",
              "      <td>...</td>\n",
              "      <td>...</td>\n",
              "      <td>...</td>\n",
              "    </tr>\n",
              "    <tr>\n",
              "      <th>63941</th>\n",
              "      <td>10</td>\n",
              "      <td>1</td>\n",
              "      <td>7.0</td>\n",
              "    </tr>\n",
              "    <tr>\n",
              "      <th>63951</th>\n",
              "      <td>12</td>\n",
              "      <td>3</td>\n",
              "      <td>15.0</td>\n",
              "    </tr>\n",
              "    <tr>\n",
              "      <th>63966</th>\n",
              "      <td>4</td>\n",
              "      <td>2</td>\n",
              "      <td>4.0</td>\n",
              "    </tr>\n",
              "    <tr>\n",
              "      <th>63980</th>\n",
              "      <td>1</td>\n",
              "      <td>1</td>\n",
              "      <td>7.0</td>\n",
              "    </tr>\n",
              "    <tr>\n",
              "      <th>63995</th>\n",
              "      <td>14</td>\n",
              "      <td>1</td>\n",
              "      <td>10.0</td>\n",
              "    </tr>\n",
              "    <tr>\n",
              "      <th>63998</th>\n",
              "      <td>13</td>\n",
              "      <td>0</td>\n",
              "      <td>5.0</td>\n",
              "    </tr>\n",
              "    <tr>\n",
              "      <th>63999</th>\n",
              "      <td>1</td>\n",
              "      <td>0</td>\n",
              "      <td>5.0</td>\n",
              "    </tr>\n",
              "    <tr>\n",
              "      <th>64013</th>\n",
              "      <td>13</td>\n",
              "      <td>2</td>\n",
              "      <td>30.0</td>\n",
              "    </tr>\n",
              "    <tr>\n",
              "      <th>64014</th>\n",
              "      <td>13</td>\n",
              "      <td>2</td>\n",
              "      <td>12.0</td>\n",
              "    </tr>\n",
              "    <tr>\n",
              "      <th>64016</th>\n",
              "      <td>14</td>\n",
              "      <td>1</td>\n",
              "      <td>12.0</td>\n",
              "    </tr>\n",
              "    <tr>\n",
              "      <th>64033</th>\n",
              "      <td>10</td>\n",
              "      <td>0</td>\n",
              "      <td>2.0</td>\n",
              "    </tr>\n",
              "    <tr>\n",
              "      <th>64043</th>\n",
              "      <td>14</td>\n",
              "      <td>0</td>\n",
              "      <td>3.0</td>\n",
              "    </tr>\n",
              "    <tr>\n",
              "      <th>64048</th>\n",
              "      <td>5</td>\n",
              "      <td>0</td>\n",
              "      <td>3.0</td>\n",
              "    </tr>\n",
              "    <tr>\n",
              "      <th>64053</th>\n",
              "      <td>5</td>\n",
              "      <td>0</td>\n",
              "      <td>18.0</td>\n",
              "    </tr>\n",
              "    <tr>\n",
              "      <th>64058</th>\n",
              "      <td>2</td>\n",
              "      <td>0</td>\n",
              "      <td>7.0</td>\n",
              "    </tr>\n",
              "    <tr>\n",
              "      <th>64077</th>\n",
              "      <td>9</td>\n",
              "      <td>2</td>\n",
              "      <td>12.0</td>\n",
              "    </tr>\n",
              "    <tr>\n",
              "      <th>64083</th>\n",
              "      <td>13</td>\n",
              "      <td>2</td>\n",
              "      <td>7.0</td>\n",
              "    </tr>\n",
              "    <tr>\n",
              "      <th>64084</th>\n",
              "      <td>14</td>\n",
              "      <td>0</td>\n",
              "      <td>8.0</td>\n",
              "    </tr>\n",
              "    <tr>\n",
              "      <th>64090</th>\n",
              "      <td>14</td>\n",
              "      <td>2</td>\n",
              "      <td>5.0</td>\n",
              "    </tr>\n",
              "    <tr>\n",
              "      <th>64100</th>\n",
              "      <td>0</td>\n",
              "      <td>0</td>\n",
              "      <td>4.0</td>\n",
              "    </tr>\n",
              "    <tr>\n",
              "      <th>64101</th>\n",
              "      <td>9</td>\n",
              "      <td>1</td>\n",
              "      <td>10.0</td>\n",
              "    </tr>\n",
              "    <tr>\n",
              "      <th>64113</th>\n",
              "      <td>13</td>\n",
              "      <td>1</td>\n",
              "      <td>15.0</td>\n",
              "    </tr>\n",
              "    <tr>\n",
              "      <th>64116</th>\n",
              "      <td>13</td>\n",
              "      <td>0</td>\n",
              "      <td>6.0</td>\n",
              "    </tr>\n",
              "    <tr>\n",
              "      <th>64122</th>\n",
              "      <td>13</td>\n",
              "      <td>1</td>\n",
              "      <td>4.0</td>\n",
              "    </tr>\n",
              "    <tr>\n",
              "      <th>64127</th>\n",
              "      <td>13</td>\n",
              "      <td>3</td>\n",
              "      <td>12.0</td>\n",
              "    </tr>\n",
              "    <tr>\n",
              "      <th>64129</th>\n",
              "      <td>13</td>\n",
              "      <td>2</td>\n",
              "      <td>4.0</td>\n",
              "    </tr>\n",
              "    <tr>\n",
              "      <th>64135</th>\n",
              "      <td>14</td>\n",
              "      <td>0</td>\n",
              "      <td>4.0</td>\n",
              "    </tr>\n",
              "    <tr>\n",
              "      <th>64148</th>\n",
              "      <td>14</td>\n",
              "      <td>0</td>\n",
              "      <td>5.0</td>\n",
              "    </tr>\n",
              "    <tr>\n",
              "      <th>64153</th>\n",
              "      <td>14</td>\n",
              "      <td>0</td>\n",
              "      <td>3.0</td>\n",
              "    </tr>\n",
              "    <tr>\n",
              "      <th>64154</th>\n",
              "      <td>14</td>\n",
              "      <td>0</td>\n",
              "      <td>0.5</td>\n",
              "    </tr>\n",
              "  </tbody>\n",
              "</table>\n",
              "<p>25374 rows × 3 columns</p>\n",
              "</div>"
            ],
            "text/plain": [
              "       Country  EdLevel  YearsCodePro\n",
              "7           13        0          13.0\n",
              "9           12        2           4.0\n",
              "10          12        0           2.0\n",
              "11          10        1           7.0\n",
              "12           7        1          20.0\n",
              "13          13        1           1.0\n",
              "16          13        0           3.0\n",
              "18          13        0           3.0\n",
              "23           4        3          20.0\n",
              "25           2        0          10.0\n",
              "29          12        0           2.0\n",
              "31           2        0          10.0\n",
              "32          14        0          14.0\n",
              "35          12        1           3.0\n",
              "37           6        0          12.0\n",
              "40          13        2          20.0\n",
              "41          13        0          10.0\n",
              "42          13        2          29.0\n",
              "43           1        2           6.0\n",
              "44           3        2           2.0\n",
              "45           3        2           4.0\n",
              "46          12        3          28.0\n",
              "47          13        0           8.0\n",
              "48          13        0           4.0\n",
              "50           2        1           7.0\n",
              "51          12        0           6.0\n",
              "53          13        0          23.0\n",
              "58           1        0          15.0\n",
              "63          12        1          13.0\n",
              "66          13        3          15.0\n",
              "...        ...      ...           ...\n",
              "63941       10        1           7.0\n",
              "63951       12        3          15.0\n",
              "63966        4        2           4.0\n",
              "63980        1        1           7.0\n",
              "63995       14        1          10.0\n",
              "63998       13        0           5.0\n",
              "63999        1        0           5.0\n",
              "64013       13        2          30.0\n",
              "64014       13        2          12.0\n",
              "64016       14        1          12.0\n",
              "64033       10        0           2.0\n",
              "64043       14        0           3.0\n",
              "64048        5        0           3.0\n",
              "64053        5        0          18.0\n",
              "64058        2        0           7.0\n",
              "64077        9        2          12.0\n",
              "64083       13        2           7.0\n",
              "64084       14        0           8.0\n",
              "64090       14        2           5.0\n",
              "64100        0        0           4.0\n",
              "64101        9        1          10.0\n",
              "64113       13        1          15.0\n",
              "64116       13        0           6.0\n",
              "64122       13        1           4.0\n",
              "64127       13        3          12.0\n",
              "64129       13        2           4.0\n",
              "64135       14        0           4.0\n",
              "64148       14        0           5.0\n",
              "64153       14        0           3.0\n",
              "64154       14        0           0.5\n",
              "\n",
              "[25374 rows x 3 columns]"
            ]
          },
          "execution_count": 47,
          "metadata": {},
          "output_type": "execute_result"
        }
      ],
      "source": [
        "X"
      ]
    },
    {
      "cell_type": "code",
      "execution_count": null,
      "metadata": {
        "id": "F_3tw5u2noaf"
      },
      "outputs": [],
      "source": []
    },
    {
      "cell_type": "code",
      "execution_count": null,
      "metadata": {
        "id": "fv37OB4vnoaf",
        "outputId": "0d45f5e5-77b7-4168-8abb-49756e76f5a5"
      },
      "outputs": [
        {
          "data": {
            "text/plain": [
              "array([['United States', 'Master’s degree', '15']], dtype='<U15')"
            ]
          },
          "execution_count": 53,
          "metadata": {},
          "output_type": "execute_result"
        }
      ],
      "source": [
        "# country. edlevel, yearscode\n",
        "X = np.array([[\"United States\", 'Master’s degree', 15]])\n",
        "X"
      ]
    },
    {
      "cell_type": "code",
      "execution_count": null,
      "metadata": {
        "id": "EmvmFNc0noaf",
        "outputId": "824d3ae8-f065-4b43-eec5-b3822128489c"
      },
      "outputs": [
        {
          "data": {
            "text/plain": [
              "array([[ 0.,  0., 15.]])"
            ]
          },
          "execution_count": 55,
          "metadata": {},
          "output_type": "execute_result"
        }
      ],
      "source": [
        "X[:, 0] = le_country.fit_transform(X[:, 0])\n",
        "X[:, 1] = le_education.fit_transform(X[:, 1])\n",
        "X= X.astype(float)\n",
        "X"
      ]
    },
    {
      "cell_type": "code",
      "execution_count": null,
      "metadata": {
        "id": "jFwlXj8Rnoag",
        "outputId": "abf33ff5-04ec-4d04-f954-41ef604c5f1a"
      },
      "outputs": [
        {
          "data": {
            "text/plain": [
              "array([90643.55102041])"
            ]
          },
          "execution_count": 57,
          "metadata": {},
          "output_type": "execute_result"
        }
      ],
      "source": [
        "y_pred = regressor.predict(X)\n",
        "y_pred"
      ]
    },
    {
      "cell_type": "code",
      "execution_count": null,
      "metadata": {
        "id": "1DymLDJ5noag"
      },
      "outputs": [],
      "source": [
        "import pickle"
      ]
    },
    {
      "cell_type": "code",
      "execution_count": null,
      "metadata": {
        "id": "X3h5LeKZnoag"
      },
      "outputs": [],
      "source": [
        "data = {\"model\":regressor, \"le_country\":le_country, \"le_education\":le_education}\n",
        "with open('saved_steps.pkl', 'wb') as file:\n",
        "    pickle.dump(data, file)"
      ]
    },
    {
      "cell_type": "code",
      "execution_count": null,
      "metadata": {
        "id": "T7PnOtyhnoag"
      },
      "outputs": [],
      "source": [
        "with open('saved_steps.pkl', 'rb') as file:\n",
        "    data = pickle.load(file)\n",
        "\n",
        "regressor_loaded = data[\"model\"]\n",
        "le_country = data[\"le_country\"]\n",
        "le_education =data[\"le_education\"]"
      ]
    },
    {
      "cell_type": "code",
      "execution_count": null,
      "metadata": {
        "id": "PjH4627ynoah",
        "outputId": "e7cb1e07-3b7b-4dde-f5c9-de14043475d6"
      },
      "outputs": [
        {
          "data": {
            "text/plain": [
              "array([90643.55102041])"
            ]
          },
          "execution_count": 65,
          "metadata": {},
          "output_type": "execute_result"
        }
      ],
      "source": [
        "y_pred =regressor_loaded.predict(X)\n",
        "y_pred"
      ]
    }
  ],
  "metadata": {
    "kernelspec": {
      "display_name": "Python 3",
      "language": "python",
      "name": "python3"
    },
    "language_info": {
      "codemirror_mode": {
        "name": "ipython",
        "version": 3
      },
      "file_extension": ".py",
      "mimetype": "text/x-python",
      "name": "python",
      "nbconvert_exporter": "python",
      "pygments_lexer": "ipython3",
      "version": "3.7.6"
    },
    "colab": {
      "provenance": [],
      "include_colab_link": true
    }
  },
  "nbformat": 4,
  "nbformat_minor": 0
}